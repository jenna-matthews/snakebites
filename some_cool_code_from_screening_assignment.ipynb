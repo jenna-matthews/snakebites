{
 "cells": [
  {
   "cell_type": "code",
   "execution_count": null,
   "id": "4211b1d4",
   "metadata": {},
   "outputs": [],
   "source": [
    "# tvScientific Python et al. screen\n",
    "# 2024-03-09\n",
    "# Jenna Matthews"
   ]
  },
  {
   "cell_type": "code",
   "execution_count": null,
   "id": "a6d9d279",
   "metadata": {},
   "outputs": [],
   "source": [
    "import numpy\n",
    "import itertools\n",
    "\n",
    "from itertools import groupby\n",
    "from itertools import islice\n",
    "\n",
    "import pandas as pd\n",
    "\n",
    "import matplotlib\n",
    "import matplotlib.pyplot as plt\n"
   ]
  },
  {
   "cell_type": "code",
   "execution_count": null,
   "id": "41ea72fd",
   "metadata": {},
   "outputs": [],
   "source": [
    "# Q1) Given a list of 2-D coordinates, \n",
    "#     write a function that returns True\n",
    "#     if the points lie on a straight line and False otherwise.\n",
    "#     Use only the Python standard libraries.\n",
    "#\n",
    "# collinear([[1,1], [2,2], [4,4], [-10, -10]]) = True\n",
    "# collinear([[1,0], [2,0], [3,1]]) = False \n",
    "\n",
    "# my notes:\n",
    "# the points will be on a straight line in 1 of 3 scenarios:\n",
    "## 1 - the x & y of each pair are identical numbers (this will create a straight diagonal line)\n",
    "## 2 - among all the pairs, the x is the same value (straight vertical line)\n",
    "## 3 - among all the pairs, the y is the same value (straight horizontal line)"
   ]
  },
  {
   "cell_type": "code",
   "execution_count": null,
   "id": "a8eedf5f",
   "metadata": {},
   "outputs": [],
   "source": [
    "# set up the itertools functions for the first problem\n",
    "# from the itertools library here: https://docs.python.org/3/library/itertools.html#itertools-recipes)\n",
    "def take(n, iterable):\n",
    "    return list(islice(iterable, n))\n",
    "\n",
    "def all_equal(iterable, key=None): \n",
    "    return len(take(2, groupby(iterable, key))) <= 1\n",
    "\n",
    "# created myself for the project\n",
    "# for the diagonal line, iterate through the list\n",
    "def diag_line(list_of_lists):\n",
    "    for l in list_of_lists:\n",
    "        if not all_equal(l):\n",
    "            # it is false as SOON as it fails\n",
    "            return False\n",
    "        return True"
   ]
  },
  {
   "cell_type": "code",
   "execution_count": null,
   "id": "5dbc2df8",
   "metadata": {},
   "outputs": [],
   "source": [
    "# using these from the example for testing\n",
    "# collinear = [[1,1], [2,2], [4,4], [-10, -10]]\n",
    "collinear = [[1,0], [2,0], [3,1]]\n",
    "\n",
    "# make it into a numpy array so you can get all the x and y values in their own array\n",
    "cols = numpy.array(collinear)\n",
    "x_vals = cols[:,0]\n",
    "y_vals = cols[:,1]\n",
    "\n",
    "# does it make a vertical line? true if all x values are the same\n",
    "print(\"Vertical line? \", all_equal(x_vals))\n",
    "\n",
    "# does it make a horizontal line? true if all y values are the same\n",
    "print(\"Horizontal line? \", all_equal(y_vals))\n",
    "\n",
    "# does it make a diagonal line? true if each x is the same as it's corresponding y\n",
    "print(\"Diagonal line? \", diag_line(collinear))"
   ]
  },
  {
   "cell_type": "code",
   "execution_count": null,
   "id": "7452805e",
   "metadata": {},
   "outputs": [],
   "source": [
    "# Q2) Define a function that returns the frequencies of the last digits \n",
    "#     of a list of nonnegative integers. \n",
    "#     Use only the Python standard libraries.\n",
    "#\n",
    "#     Given the list [49, 10, 20, 5, 30]: \n",
    "#     9 is the last digit once (in 49), \n",
    "#     0 is the last digit three times (in 10, 20 and 30) \n",
    "#     5 is the last digit once (in 5) \n",
    "# last_digit_counts([49, 10, 20, 5, 30]) \n",
    "#   = {9:1, 0:3, 5:1} # or something equivalent"
   ]
  },
  {
   "cell_type": "code",
   "execution_count": null,
   "id": "0084273e",
   "metadata": {},
   "outputs": [],
   "source": [
    "# required functions\n",
    "# give the number in the ones digit\n",
    "def ones_digit(number):\n",
    "    n = str(number)\n",
    "    ones = n[-1]\n",
    "    return int(ones)\n",
    "\n",
    "# iterate through a list and get all the ones digits in a single list\n",
    "def count_of_seen(iterable):\n",
    "    list_for_count = []\n",
    "    for num in iterable:\n",
    "        ones = ones_digit(num)\n",
    "        list_for_count.append(ones)\n",
    "    return(list_for_count)"
   ]
  },
  {
   "cell_type": "code",
   "execution_count": null,
   "id": "59b8231c",
   "metadata": {},
   "outputs": [],
   "source": [
    "list_for_testing = [49, 10, 20, 5, 30]\n",
    "\n",
    "# use defined functions (above) to create a new list with just the ones digits\n",
    "list_for_counts = count_of_seen(list_for_testing)\n",
    "\n",
    "# use pandas to return the count of that list\n",
    "count = pd.Series(list_for_counts).value_counts()\n",
    "print(\"Ones Count\")\n",
    "print(count)"
   ]
  },
  {
   "cell_type": "code",
   "execution_count": null,
   "id": "959a3024",
   "metadata": {},
   "outputs": [],
   "source": [
    "# Q3) Using whatever library you like, make an effective \n",
    "#     visualization for the data stored here: \n",
    "#     https://github.com/michaelbilow/open-data/raw/main/spotify-2023.xlsx \n",
    "#     It consists the most streamed songs on Spotify in 2023,\n",
    "#     along with their artist, key, mode, and year of publication.\n",
    "#     Write 1-2 sentences about what you're trying to show.\n",
    "\n",
    "df = pd.read_excel('/Users/jennaolsen/Desktop/spotify-2023.xlsx')\n",
    "# df.head()\n",
    "\n",
    "column_names = df.columns.to_list()\n",
    "# print(column_names)\n",
    "\n",
    "total_streams = sum(df['Streams'])\n",
    "# print(total_streams)\n",
    "\n",
    "\n",
    "# Initially I wanted to show which keys & modes (like \"C Major\") were the most common\n",
    "dff = df.groupby([\"Key\",\"Mode\"]).Streams.sum().reset_index()\n",
    "dff[\"Key_Mode\"] = dff[\"Key\"] + \" \" + dff[\"Mode\"]\n",
    "dff[\"Percent of Streams\"] = dff[\"Streams\"]/total_streams\n",
    "# tried this one to show the key/mode breakdown - too many options, pie chart is too hard to read\n",
    "# plt.pie(dff[\"Percent of Streams\"], labels = dff[\"Key_Mode\"], normalize=False)\n",
    "\n",
    "# so make a new one with just the mode\n",
    "df_mode = df.groupby([\"Mode\"]).Streams.sum().reset_index()\n",
    "df_mode[\"Percent of Streams\"] = df_mode[\"Streams\"]/total_streams\n",
    "\n",
    "df_mode.head()\n",
    "plt.pie(df_mode[\"Percent of Streams\"], labels = df_mode[\"Mode\"], normalize=False)"
   ]
  },
  {
   "cell_type": "code",
   "execution_count": null,
   "id": "c9a8ba82",
   "metadata": {},
   "outputs": [],
   "source": [
    "# Q4) If you flip a fair coin 100 times (independently), \n",
    "#     what is the chance that more than 60 flips come up heads? \n",
    "#     Do not try to compute this value exactly; instead, use \n",
    "#     the simplest \"good\" approximation you can come up with.\n",
    "#     You should not write any code for this problem.\n",
    "\n",
    "# simplest good approximation = \n",
    "# 50% chance of getting heads on any one flip\n",
    "# 60 in 100 ~~ 6 in 10\n",
    "# 0.5 * 0.5 * 0.5 * 0.5 * 0.5 * 0.5 = 0.015625\n",
    "\n",
    "# correct answer from (https://www.omnicalculator.com/statistics/coin-flip-probability) = 0.0176"
   ]
  },
  {
   "cell_type": "code",
   "execution_count": null,
   "id": "38029d62",
   "metadata": {},
   "outputs": [],
   "source": [
    "# Q5) What are some Python libraries (or libraries in other\n",
    "#     programming languages) you think are fun or interesting to work with? \n",
    "#     pandas and scikit-learn are both very useful, but I'd argue\n",
    "#     they're not so fun or interesting.\n",
    "\n",
    "print(\"\"\"\n",
    "        The two I enjoy the most are itertools - as used here - \n",
    "      and BeautifulSoup - which I use for research/analysis work\n",
    "      such as scraping all social media sites to learn more about \n",
    "      an incoming provost or scraping blog posts to research \n",
    "      collective problem-solving work - which is what I have been \n",
    "      doing for my PhD work.\n",
    "      \"\"\")"
   ]
  },
  {
   "cell_type": "code",
   "execution_count": null,
   "id": "e1aba1ca",
   "metadata": {},
   "outputs": [],
   "source": [
    "# Q6) What tools do you use to help you code productively? \n",
    "#     For example, what editor/IDE do you prefer? Testing framework? Linter?\n",
    "#     Command line utilities? Other tools you like or recommend to friends?\n",
    "#     Is there something you've discovered recently but haven’t \n",
    "#     had time to learn yet?\n",
    "\n",
    "print(\"\"\"\n",
    "        My favorite text editor is Sublime (https://www.sublimetext.com/) and I prefer Jupyter notebooks for\n",
    "    Python and embedded SQL (most of my research work). My favorite SQL IDE so far has been DataGrip because of \n",
    "    the integration options with Git repos. \n",
    "\"\"\")"
   ]
  }
 ],
 "metadata": {
  "kernelspec": {
   "display_name": "Python 3 (ipykernel)",
   "language": "python",
   "name": "python3"
  },
  "language_info": {
   "codemirror_mode": {
    "name": "ipython",
    "version": 3
   },
   "file_extension": ".py",
   "mimetype": "text/x-python",
   "name": "python",
   "nbconvert_exporter": "python",
   "pygments_lexer": "ipython3",
   "version": "3.9.7"
  }
 },
 "nbformat": 4,
 "nbformat_minor": 5
}
